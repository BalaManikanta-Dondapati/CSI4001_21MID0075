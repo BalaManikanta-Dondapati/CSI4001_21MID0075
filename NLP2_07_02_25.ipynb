{
 "cells": [
  {
   "cell_type": "code",
   "execution_count": 8,
   "id": "afcfd7a0-a92d-4983-b1cd-b600b5f8d099",
   "metadata": {},
   "outputs": [],
   "source": [
    "import nltk\n",
    "f=open('tweets1.txt','r')"
   ]
  },
  {
   "cell_type": "code",
   "execution_count": 9,
   "id": "02641822-9370-466d-acc1-7006a264af9c",
   "metadata": {},
   "outputs": [],
   "source": [
    "text = f.read()\n",
    "text1 = text.split() #splitting the words using a space\n",
    "text2 = nltk.Text(text1)"
   ]
  },
  {
   "cell_type": "code",
   "execution_count": 10,
   "id": "4f6a1768-e33e-4b4e-8a5e-8c0a0423490e",
   "metadata": {},
   "outputs": [
    {
     "name": "stdout",
     "output_type": "stream",
     "text": [
      "Displaying 9 of 9 matches:\n",
      "or joy Main session is over. Time to find people I am sitting waitng for the s\n",
      "beer baroness holds a competition to find the world's saddest music. Tonight, \n",
      "hose people who flies frequently can find the energy to work. XY Doc: \"Secrets\n",
      " PTs State Conference in Roanoke VA. Find out more - url building out some wor\n",
      "orld-class usability expertise. Must find out how. Watching lord of the rings \n",
      "nteresting guy...I like him. I can't find my hellyeahdude coaster? Installed F\n",
      "em off to the printer! scrambling to find a buddy with wheels to pick up a mat\n",
      "er opportunity at a Magnet Hospital? Find what you've been looking for at Rest\n",
      "ll is well! Happy Wednesday 01.23.08 Find out where pro abort Catholic pols go\n"
     ]
    }
   ],
   "source": [
    "text2.concordance(\"find\")"
   ]
  },
  {
   "cell_type": "code",
   "execution_count": 14,
   "id": "7893e9a3-08a5-4b29-b37c-e4016a7c7ab2",
   "metadata": {},
   "outputs": [],
   "source": [
    "from urllib import request"
   ]
  },
  {
   "cell_type": "code",
   "execution_count": 17,
   "id": "29f2281f-6624-4f4e-b1ef-c0d329719c62",
   "metadata": {},
   "outputs": [],
   "source": [
    "url = \"https://www.gutenberg.org/cache/epub/75300/pg75300.txt\""
   ]
  },
  {
   "cell_type": "code",
   "execution_count": 18,
   "id": "4112b77d-7921-45ae-b882-3a56f739906e",
   "metadata": {},
   "outputs": [],
   "source": [
    "response = request.urlopen(url)"
   ]
  },
  {
   "cell_type": "code",
   "execution_count": 19,
   "id": "6033496c-2096-4527-98a1-d47e2459daba",
   "metadata": {},
   "outputs": [],
   "source": [
    "raw=response.read().decode('utf8')"
   ]
  },
  {
   "cell_type": "code",
   "execution_count": 20,
   "id": "82d35b6c-8d9b-45c4-ab6a-be88fa5484bf",
   "metadata": {},
   "outputs": [
    {
     "data": {
      "text/plain": [
       "str"
      ]
     },
     "execution_count": 20,
     "metadata": {},
     "output_type": "execute_result"
    }
   ],
   "source": [
    "type(raw)"
   ]
  },
  {
   "cell_type": "code",
   "execution_count": 21,
   "id": "d9f4a910-f4a8-4b71-9ed5-03b07321cac1",
   "metadata": {},
   "outputs": [
    {
     "data": {
      "text/plain": [
       "'\\ufeffThe Project Gutenberg eBook of Manners for the metropolis\\r\\n    \\r\\nThis eboo'"
      ]
     },
     "execution_count": 21,
     "metadata": {},
     "output_type": "execute_result"
    }
   ],
   "source": [
    "raw[:75]"
   ]
  },
  {
   "cell_type": "code",
   "execution_count": 22,
   "id": "c1af4203-7e8f-402d-9b23-51f65b5dfebb",
   "metadata": {},
   "outputs": [],
   "source": [
    "from nltk.tokenize import word_tokenize\n",
    "tokens = word_tokenize(raw)"
   ]
  },
  {
   "cell_type": "code",
   "execution_count": 23,
   "id": "489a75c7-fda0-4b5d-94cd-62f8d270606a",
   "metadata": {},
   "outputs": [
    {
     "data": {
      "text/plain": [
       "list"
      ]
     },
     "execution_count": 23,
     "metadata": {},
     "output_type": "execute_result"
    }
   ],
   "source": [
    "type(tokens)"
   ]
  },
  {
   "cell_type": "code",
   "execution_count": null,
   "id": "67008fee-5cd8-4e22-b249-6dcec6a1d443",
   "metadata": {},
   "outputs": [],
   "source": []
  }
 ],
 "metadata": {
  "kernelspec": {
   "display_name": "Python 3 (ipykernel)",
   "language": "python",
   "name": "python3"
  },
  "language_info": {
   "codemirror_mode": {
    "name": "ipython",
    "version": 3
   },
   "file_extension": ".py",
   "mimetype": "text/x-python",
   "name": "python",
   "nbconvert_exporter": "python",
   "pygments_lexer": "ipython3",
   "version": "3.13.0"
  }
 },
 "nbformat": 4,
 "nbformat_minor": 5
}
